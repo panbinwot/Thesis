{
 "cells": [
  {
   "cell_type": "markdown",
   "metadata": {},
   "source": [
    "## Thesis: Can we predict wage better than mincer equation with statistical learning?"
   ]
  },
  {
   "cell_type": "markdown",
   "metadata": {},
   "source": [
    "Data: NLSY97 (prepared by stata), panel data \n",
    "\n",
    "Models applied: linear model, trees/forest, \n",
    "\n",
    "Y: hourly rate of wage \n",
    "\n",
    "X: schooling(by year), exp "
   ]
  },
  {
   "cell_type": "code",
   "execution_count": 1,
   "metadata": {
    "scrolled": false
   },
   "outputs": [
    {
     "name": "stderr",
     "output_type": "stream",
     "text": [
      "C:\\Users\\pb061\\Anaconda3\\lib\\site-packages\\sklearn\\cross_validation.py:41: DeprecationWarning: This module was deprecated in version 0.18 in favor of the model_selection module into which all the refactored classes and functions are moved. Also note that the interface of the new CV iterators are different from that of this module. This module will be removed in 0.20.\n",
      "  \"This module will be removed in 0.20.\", DeprecationWarning)\n"
     ]
    },
    {
     "name": "stdout",
     "output_type": "stream",
     "text": [
      "         lnwage  sex  race  schooling  year  marital_status  \\\n",
      "9      3.117950    1     2         15  2005               0   \n",
      "10     3.922963    1     2         15  2008               0   \n",
      "11     3.138966    1     2         15  2009               0   \n",
      "12     3.331490    1     2         15  2010               0   \n",
      "13     3.362110    1     2         15  2011               0   \n",
      "14     3.736717    1     2         15  2013               0   \n",
      "15     3.434632    1     2         15  2015               0   \n",
      "26     2.564949    1     2         10  2005               0   \n",
      "27     3.178054    1     2         10  2006               0   \n",
      "28     2.442347    1     2         10  2007               0   \n",
      "29     2.772589    1     2         10  2008               0   \n",
      "30     2.302585    1     2         10  2009               1   \n",
      "31     3.348148    1     2         10  2010               1   \n",
      "32     4.017464    1     2         10  2011               1   \n",
      "33     3.416086    1     2         10  2013               1   \n",
      "34     3.036394    1     2         10  2015               1   \n",
      "44     1.791759    1     2         10  2005               0   \n",
      "45     2.302585    1     2         10  2006               0   \n",
      "46     2.079442    1     2         10  2009               0   \n",
      "47     2.302585    1     2         10  2010               1   \n",
      "48     2.351375    1     2         10  2015               1   \n",
      "55     2.833213    1     4         14  2005               0   \n",
      "56     2.995732    1     4         14  2006               0   \n",
      "57     3.218876    1     4         14  2007               0   \n",
      "58     2.833213    1     4         14  2008               0   \n",
      "59     2.785011    1     4         15  2009               0   \n",
      "60     2.832036    1     4         16  2010               0   \n",
      "61     2.944439    1     4         16  2011               0   \n",
      "62     2.842581    1     4         16  2013               0   \n",
      "63     2.922624    1     4         16  2015               1   \n",
      "...         ...  ...   ...        ...   ...             ...   \n",
      "41966  3.044523    1     4         22  2013               1   \n",
      "41967  4.767714    1     4         22  2015               1   \n",
      "41968  2.197225    1     4         10  2005               0   \n",
      "41969  2.327278    1     4         10  2006               0   \n",
      "41970  2.828496    1     4         10  2007               0   \n",
      "41971  3.218876    1     4         10  2008               0   \n",
      "41972  3.552200    1     4         10  2009               0   \n",
      "41973  2.841415    1     4         10  2010               0   \n",
      "41974  3.091043    1     4         10  2011               0   \n",
      "41975  3.064792    1     4         10  2013               0   \n",
      "41976  2.302585    1     4         10  2015               0   \n",
      "41995  2.197225    1     4         10  2005               0   \n",
      "41996  2.302585    1     4         11  2006               0   \n",
      "41997  0.756122    1     4         11  2007               0   \n",
      "41998  2.230014    1     4         11  2008               0   \n",
      "42005  2.995732    1     4         15  2006               0   \n",
      "42006  3.218876    1     4         16  2007               0   \n",
      "42007  3.061988    1     4         17  2008               0   \n",
      "42008  3.061988    1     4         18  2009               0   \n",
      "42009  3.055415    1     4         19  2010               0   \n",
      "42010  3.091043    1     4         20  2011               0   \n",
      "42011  2.397895    1     4         15  2005               0   \n",
      "42012  2.442347    1     4         15  2006               0   \n",
      "42013  2.564949    1     4         15  2007               0   \n",
      "42014  2.821379    1     4         15  2008               0   \n",
      "42015  2.799109    1     4         15  2009               0   \n",
      "42016  2.822569    1     4         15  2010               0   \n",
      "42017  2.918311    1     4         15  2011               0   \n",
      "42018  2.970414    1     4         17  2013               0   \n",
      "42019  2.302585    1     4         18  2015               0   \n",
      "\n",
      "                                              industry  age  exp  exp2  exp3  \n",
      "9                        INFORMATION AND COMMUNICATION   23    2     4     8  \n",
      "10                       INFORMATION AND COMMUNICATION   26    5    25   125  \n",
      "11                               PUBLIC ADMINISTRATION   27    6    36   216  \n",
      "12                               PUBLIC ADMINISTRATION   28    7    49   343  \n",
      "13                               PUBLIC ADMINISTRATION   29    8    64   512  \n",
      "14                                                 NaN   31   10   100  1000  \n",
      "15                   PROFESSIONAL AND RELATED SERVICES   33   12   144  1728  \n",
      "26                                        CONSTRUCTION   23    7    49   343  \n",
      "27            EDUCATIONAL, HEALTH, AND SOCIAL SERVICES   24    8    64   512  \n",
      "28                               PUBLIC ADMINISTRATION   25    9    81   729  \n",
      "29     ENTERTAINMENT, ACCOMODATIONS, AND FOOD SERVICES   26   10   100  1000  \n",
      "30     ENTERTAINMENT, ACCOMODATIONS, AND FOOD SERVICES   27   11   121  1331  \n",
      "31                               PUBLIC ADMINISTRATION   28   12   144  1728  \n",
      "32                 FINANCE, INSURANCE, AND REAL ESTATE   29   13   169  2197  \n",
      "33                                                 NaN   31   15   225  3375  \n",
      "34                               PUBLIC ADMINISTRATION   33   17   289  4913  \n",
      "44                                        RETAIL TRADE   22    6    36   216  \n",
      "45                   PROFESSIONAL AND RELATED SERVICES   23    7    49   343  \n",
      "46                      TRANSPORTATION AND WAREHOUSING   26   10   100  1000  \n",
      "47                   PROFESSIONAL AND RELATED SERVICES   27   11   121  1331  \n",
      "48                                                 NaN   32   16   256  4096  \n",
      "55                                        CONSTRUCTION   23    3     9    27  \n",
      "56                                        CONSTRUCTION   24    4    16    64  \n",
      "57                                        CONSTRUCTION   25    5    25   125  \n",
      "58            EDUCATIONAL, HEALTH, AND SOCIAL SERVICES   26    6    36   216  \n",
      "59            EDUCATIONAL, HEALTH, AND SOCIAL SERVICES   27    6    36   216  \n",
      "60            EDUCATIONAL, HEALTH, AND SOCIAL SERVICES   28    6    36   216  \n",
      "61            EDUCATIONAL, HEALTH, AND SOCIAL SERVICES   29    7    49   343  \n",
      "62                                                 NaN   31    9    81   729  \n",
      "63            EDUCATIONAL, HEALTH, AND SOCIAL SERVICES   33   11   121  1331  \n",
      "...                                                ...  ...  ...   ...   ...  \n",
      "41966                                              NaN   33    5    25   125  \n",
      "41967         EDUCATIONAL, HEALTH, AND SOCIAL SERVICES   35    7    49   343  \n",
      "41968         EDUCATIONAL, HEALTH, AND SOCIAL SERVICES   25    9    81   729  \n",
      "41969         EDUCATIONAL, HEALTH, AND SOCIAL SERVICES   26   10   100  1000  \n",
      "41970                   TRANSPORTATION AND WAREHOUSING   27   11   121  1331  \n",
      "41971                   TRANSPORTATION AND WAREHOUSING   28   12   144  1728  \n",
      "41972                   TRANSPORTATION AND WAREHOUSING   29   13   169  2197  \n",
      "41973                   TRANSPORTATION AND WAREHOUSING   30   14   196  2744  \n",
      "41974                   TRANSPORTATION AND WAREHOUSING   31   15   225  3375  \n",
      "41975                                              NaN   33   17   289  4913  \n",
      "41976                   TRANSPORTATION AND WAREHOUSING   35   19   361  6859  \n",
      "41995                PROFESSIONAL AND RELATED SERVICES   22    6    36   216  \n",
      "41996                                     RETAIL TRADE   23    6    36   216  \n",
      "41997  ENTERTAINMENT, ACCOMODATIONS, AND FOOD SERVICES   24    7    49   343  \n",
      "41998                                     RETAIL TRADE   25    8    64   512  \n",
      "42005                             ACTIVE DUTY MILITARY   26    5    25   125  \n",
      "42006                PROFESSIONAL AND RELATED SERVICES   27    5    25   125  \n",
      "42007                PROFESSIONAL AND RELATED SERVICES   28    5    25   125  \n",
      "42008                PROFESSIONAL AND RELATED SERVICES   29    5    25   125  \n",
      "42009                PROFESSIONAL AND RELATED SERVICES   30    5    25   125  \n",
      "42010                PROFESSIONAL AND RELATED SERVICES   31    5    25   125  \n",
      "42011                                  WHOLESALE TRADE   25    4    16    64  \n",
      "42012                                  WHOLESALE TRADE   26    5    25   125  \n",
      "42013                                  WHOLESALE TRADE   27    6    36   216  \n",
      "42014                                  WHOLESALE TRADE   28    7    49   343  \n",
      "42015                                  WHOLESALE TRADE   29    8    64   512  \n",
      "42016                                  WHOLESALE TRADE   30    9    81   729  \n",
      "42017                                  WHOLESALE TRADE   31   10   100  1000  \n",
      "42018                                              NaN   33   10   100  1000  \n",
      "42019                                ACS SPECIAL CODES   35   11   121  1331  \n",
      "\n",
      "[21542 rows x 11 columns]\n"
     ]
    }
   ],
   "source": [
    "import numpy as np\n",
    "import pandas as pd\n",
    "import matplotlib.pyplot as plt\n",
    "from sklearn.linear_model import LinearRegression\n",
    "from sklearn.model_selection import  cross_val_predict\n",
    "from sklearn.cross_validation import train_test_split\n",
    "from sklearn import metrics\n",
    "from sklearn.tree import export_graphviz\n",
    "from sklearn.ensemble import RandomForestRegressor\n",
    "\n",
    "path = 'C:/Users/pb061/OneDrive/GraduateThesis/'\n",
    "\n",
    "data = pd.read_excel(path+'data/temp/mincer.xlsx') \n",
    "\n",
    "print(data[data['sex']==1])"
   ]
  },
  {
   "cell_type": "code",
   "execution_count": null,
   "metadata": {},
   "outputs": [],
   "source": [
    "print(data.head())\n",
    "X = np.array(data[['year','sex','schooling','marital_status','exp','exp2']])\n",
    "y = np.ravel(np.array(data[['lnwage']]))\n",
    "\n",
    "X_train, X_test, y_train, y_test = train_test_split(X, y, random_state=1)\n",
    "\n",
    "\n",
    "forest = RandomForestRegressor(n_estimators=1000, \n",
    "\t\t\t\t\t\t\t\tmax_depth=6,\n",
    "\t\t\t\t\t\t\t\trandom_state=0,\n",
    "                                n_jobs=4)\n",
    "forest.fit(X_train,y_train)"
   ]
  },
  {
   "cell_type": "code",
   "execution_count": 2,
   "metadata": {},
   "outputs": [
    {
     "name": "stdout",
     "output_type": "stream",
     "text": [
      "Accuracy: 79.03 %.\n"
     ]
    }
   ],
   "source": [
    "pred = forest.predict(X_test)\n",
    "errors = abs(pred - y_test)\n",
    "print('Accuracy:', round(100-np.mean(100 * (errors / y_test)), 2), '%.')"
   ]
  },
  {
   "cell_type": "code",
   "execution_count": 1,
   "metadata": {
    "scrolled": true
   },
   "outputs": [],
   "source": [
    "# print(data[data['year']==2005])"
   ]
  },
  {
   "cell_type": "code",
   "execution_count": 10,
   "metadata": {},
   "outputs": [
    {
     "ename": "SyntaxError",
     "evalue": "unexpected EOF while parsing (<ipython-input-10-cd63c0e06645>, line 2)",
     "output_type": "error",
     "traceback": [
      "\u001b[1;36m  File \u001b[1;32m\"<ipython-input-10-cd63c0e06645>\"\u001b[1;36m, line \u001b[1;32m2\u001b[0m\n\u001b[1;33m    print(type(data[col])\u001b[0m\n\u001b[1;37m                         ^\u001b[0m\n\u001b[1;31mSyntaxError\u001b[0m\u001b[1;31m:\u001b[0m unexpected EOF while parsing\n"
     ]
    }
   ],
   "source": [
    "for col in data.columns.values.tolist():\n",
    "    print(type(data[col])"
   ]
  },
  {
   "cell_type": "markdown",
   "metadata": {},
   "source": [
    "## Ideas for next step:\n",
    "I would like to estimate the return of education of college or master across the years to see that if it's still a good idea for\n",
    "people to take more year. By estimating the contribution statistics of schooling(k12 excluded), I would draw a chart contribution\n",
    "for each year.\n"
   ]
  },
  {
   "cell_type": "code",
   "execution_count": null,
   "metadata": {},
   "outputs": [],
   "source": []
  }
 ],
 "metadata": {
  "kernelspec": {
   "display_name": "Python 3",
   "language": "python",
   "name": "python3"
  },
  "language_info": {
   "codemirror_mode": {
    "name": "ipython",
    "version": 3
   },
   "file_extension": ".py",
   "mimetype": "text/x-python",
   "name": "python",
   "nbconvert_exporter": "python",
   "pygments_lexer": "ipython3",
   "version": "3.6.5"
  }
 },
 "nbformat": 4,
 "nbformat_minor": 2
}
