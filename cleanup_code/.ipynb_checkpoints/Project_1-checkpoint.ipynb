{
 "cells": [
  {
   "cell_type": "markdown",
   "metadata": {},
   "source": [
    "## Thesis: Can we predict wage better than mincer equation with statistical learning?"
   ]
  },
  {
   "cell_type": "markdown",
   "metadata": {},
   "source": [
    "Data: NLSY97 (prepared by stata), panel data \n",
    "\n",
    "Models applied: linear model, trees/forest, \n",
    "\n",
    "Y: hourly rate of wage \n",
    "\n",
    "X: schooling(by year), exp "
   ]
  },
  {
   "cell_type": "code",
   "execution_count": 8,
   "metadata": {},
   "outputs": [
    {
     "name": "stdout",
     "output_type": "stream",
     "text": [
      "     lnwage  sex  schooling  marital_status  exp  exp2\n",
      "0  3.352357    0         15               0    3     9\n",
      "1  3.064792    0         15               0    4    16\n",
      "2  3.266522    0         15               0    5    25\n",
      "3  3.104138    0         15               0    6    36\n",
      "4  3.173878    0         15               0    7    49\n"
     ]
    },
    {
     "name": "stderr",
     "output_type": "stream",
     "text": [
      "C:\\Users\\pb061\\Anaconda3\\lib\\site-packages\\ipykernel_launcher.py:24: DataConversionWarning: A column-vector y was passed when a 1d array was expected. Please change the shape of y to (n_samples,), for example using ravel().\n"
     ]
    },
    {
     "data": {
      "text/plain": [
       "RandomForestRegressor(bootstrap=True, criterion='mse', max_depth=5,\n",
       "           max_features='auto', max_leaf_nodes=None,\n",
       "           min_impurity_decrease=0.0, min_impurity_split=None,\n",
       "           min_samples_leaf=1, min_samples_split=2,\n",
       "           min_weight_fraction_leaf=0.0, n_estimators=1000, n_jobs=1,\n",
       "           oob_score=False, random_state=0, verbose=0, warm_start=False)"
      ]
     },
     "execution_count": 8,
     "metadata": {},
     "output_type": "execute_result"
    }
   ],
   "source": [
    "import numpy as np\n",
    "import pandas as pd\n",
    "import matplotlib.pyplot as plt\n",
    "from sklearn.linear_model import LinearRegression\n",
    "from sklearn.model_selection import  cross_val_predict\n",
    "from sklearn.cross_validation import train_test_split\n",
    "from sklearn import metrics\n",
    "from sklearn.tree import export_graphviz\n",
    "from sklearn.ensemble import RandomForestRegressor\n",
    "\n",
    "path = 'C:/Users/pb061/OneDrive/GraduateThesis/'\n",
    "\n",
    "data = pd.read_excel(path+'data/temp/mincer.xlsx') \n",
    "\n",
    "print(data.head())\n",
    "X = np.array(data[['sex','schooling','marital_status','exp','exp2']])\n",
    "y = np.array(data[['lnwage']])\n",
    "\n",
    "X_train, X_test, y_train, y_test = train_test_split(X, y, random_state=1)\n",
    "\n",
    "forest = RandomForestRegressor(n_estimators=10, \n",
    "\t\t\t\t\t\t\t\tmax_depth=5,\n",
    "\t\t\t\t\t\t\t\trandom_state=0)\n",
    "forest.fit(X_train,y_train)"
   ]
  },
  {
   "cell_type": "code",
   "execution_count": 9,
   "metadata": {},
   "outputs": [],
   "source": [
    "pred = forest.predict(X_test)"
   ]
  },
  {
   "cell_type": "code",
   "execution_count": 11,
   "metadata": {},
   "outputs": [
    {
     "name": "stdout",
     "output_type": "stream",
     "text": [
      "[3.0008601  2.8639023  2.57525135 ... 2.53555633 2.7846814  2.73049413]\n",
      "         lnwage\n",
      "12158  3.218876\n",
      "8901   3.212455\n",
      "39068  2.944439\n",
      "17071  4.055084\n",
      "12257  2.840831\n",
      "41062  3.259634\n",
      "11823  2.290513\n",
      "9403   2.329227\n",
      "1226   1.054312\n",
      "17407  3.258096\n",
      "121    3.218876\n",
      "38816  2.981126\n",
      "6302   1.981001\n",
      "17399  2.774462\n",
      "15289  1.945910\n",
      "3733   2.079442\n",
      "41254  3.101892\n",
      "39148  2.772589\n",
      "3197   3.044523\n",
      "32826  2.564949\n",
      "3791   2.484907\n",
      "5863   2.995732\n",
      "25541  6.684612\n",
      "9293   4.094345\n",
      "9175   3.138966\n",
      "31946  2.525729\n",
      "3557   2.079442\n",
      "26349  2.995732\n",
      "10432  2.290513\n",
      "9666   0.966984\n",
      "...         ...\n",
      "34615  2.559550\n",
      "36809  2.169054\n",
      "37097  2.079442\n",
      "18194  2.197225\n",
      "37750  1.832582\n",
      "19123  2.705380\n",
      "24565  0.756122\n",
      "22384  1.871802\n",
      "21590  1.945910\n",
      "16641  2.302585\n",
      "23644  2.197225\n",
      "34320  0.845868\n",
      "14853  4.736198\n",
      "34524  2.197225\n",
      "9993   2.708050\n",
      "33329  2.302585\n",
      "24083  2.302585\n",
      "15958  2.525729\n",
      "14742  2.727853\n",
      "39852  1.141033\n",
      "41102  2.420368\n",
      "2085   2.079442\n",
      "15337  2.871868\n",
      "18957  3.184698\n",
      "15648  3.159550\n",
      "19062  2.197225\n",
      "33540  2.420368\n",
      "40115  2.091864\n",
      "674    2.995732\n",
      "3809   2.995732\n",
      "\n",
      "[10508 rows x 1 columns]\n"
     ]
    }
   ],
   "source": [
    "print(pred)"
   ]
  },
  {
   "cell_type": "markdown",
   "metadata": {},
   "source": [
    "## Ideas for next step:\n",
    "I would like to estimate the return of education of college or master across the years to see that if it's still a good idea for\n",
    "people to take more year. By estimating the contribution statistics of schooling(k12 excluded), I would draw a chart contribution\n",
    "for each year.\n"
   ]
  },
  {
   "cell_type": "code",
   "execution_count": null,
   "metadata": {},
   "outputs": [],
   "source": []
  }
 ],
 "metadata": {
  "kernelspec": {
   "display_name": "Python 3",
   "language": "python",
   "name": "python3"
  },
  "language_info": {
   "codemirror_mode": {
    "name": "ipython",
    "version": 3
   },
   "file_extension": ".py",
   "mimetype": "text/x-python",
   "name": "python",
   "nbconvert_exporter": "python",
   "pygments_lexer": "ipython3",
   "version": "3.6.5"
  }
 },
 "nbformat": 4,
 "nbformat_minor": 2
}
